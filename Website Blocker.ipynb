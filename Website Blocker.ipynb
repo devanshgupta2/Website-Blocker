{
 "cells": [
  {
   "cell_type": "code",
   "execution_count": 1,
   "id": "64e0ed48",
   "metadata": {},
   "outputs": [],
   "source": [
    "# Importing the required library\n",
    "from tkinter import *"
   ]
  },
  {
   "cell_type": "code",
   "execution_count": 2,
   "id": "5aa0d319",
   "metadata": {},
   "outputs": [],
   "source": [
    "# Creating GUI window\n",
    "window = Tk()\n",
    "window.geometry('650x400')\n",
    "window.minsize(650,400)\n",
    "window.maxsize(650,400)\n",
    "window.title(\" Website Blocker\")\n",
    "\n",
    "heading = Label(window, text ='Website Blocker', font='airal')\n",
    "heading.pack()"
   ]
  },
  {
   "cell_type": "code",
   "execution_count": 3,
   "id": "24820c67",
   "metadata": {},
   "outputs": [],
   "source": [
    "# HostPath and IP Address\n",
    "host_path = \"C:\\Windows\\System32\\drivers\\etc\\hosts\"\n",
    "ip_address = '127.0.0.1'"
   ]
  },
  {
   "cell_type": "code",
   "execution_count": 4,
   "id": "05430bba",
   "metadata": {},
   "outputs": [],
   "source": [
    "def Blocker():\n",
    "    website_lists = enter_Website.get(1.0, END)\n",
    "    print(f\"Website Lists: {website_lists}\")\n",
    "    Website = list(website_lists.split(\",\"))\n",
    "    print(f\"Websites: {Website}\")\n",
    "\n",
    "    try:\n",
    "        with open(host_path, 'r+') as host_file:\n",
    "            file_content = host_file.read()\n",
    "            print(f\"File Content:\\n{file_content}\")\n",
    "            for web in Website:\n",
    "                # Check if the website is already blocked in the hosts file\n",
    "                if web.strip() in file_content:\n",
    "                    Label(window, text='Already Blocked', font='arial').place(x=230, y=200)\n",
    "                else:\n",
    "                    # Block the website by writing it to the hosts file\n",
    "                    host_file.write(ip_address + \" \" + web.strip() + '\\n')\n",
    "                    Label(window, text='Blocked', font='arial').place(x=230, y=200)\n",
    "    except PermissionError:\n",
    "        Label(window, text='Permission Denied (Run as Administrator)', font='arial').place(x=230, y=200)\n",
    "    except Exception as e:\n",
    "        Label(window, text=f'Error: {str(e)}', font='arial').place(x=230, y=200)"
   ]
  },
  {
   "cell_type": "code",
   "execution_count": 5,
   "id": "efd3bea7",
   "metadata": {},
   "outputs": [],
   "source": [
    "def Unblock():\n",
    "    website_lists = enter_Website.get(1.0, END)\n",
    "    Website = list(website_lists.split(\",\"))\n",
    "    with open(host_path, 'r+') as host_file:\n",
    "        lines = host_file.readlines()\n",
    "        host_file.seek(0)\n",
    "        for line in lines:\n",
    "            blocked = False\n",
    "            for web in Website:\n",
    "                if web.strip() in line:\n",
    "                    blocked = True\n",
    "                    break\n",
    "            if not blocked:\n",
    "                host_file.write(line)\n",
    "        host_file.truncate()\n",
    "    \n",
    "    Label(window, text='UnBlocked', font='arial').place(x=350, y=200)\n"
   ]
  },
  {
   "cell_type": "code",
   "execution_count": 6,
   "id": "e72c9856",
   "metadata": {},
   "outputs": [],
   "source": [
    "# Creating labels and buttons\n",
    "label1=Label(window, text ='Enter Website :' , font ='arial 13 bold')\n",
    "label1.place(x=5 ,y=60)\n",
    "enter_Website = Text(window,font = 'arial',height='2', width = '40')\n",
    "enter_Website.place(x= 140,y = 60)"
   ]
  },
  {
   "cell_type": "code",
   "execution_count": 7,
   "id": "9fb0e9ef",
   "metadata": {},
   "outputs": [],
   "source": [
    "block_button = Button(window, text = 'Block',font = 'arial',pady = 5,command = Blocker ,width = 6, bg = 'royal blue1', activebackground = 'grey')\n",
    "block_button.place(x = 230, y = 150)\n",
    "unblock_button = Button(window, text = 'UnBlock',font = 'arial',pady = 5,command = Unblock ,width = 6, bg = 'royal blue1', activebackground = 'grey')\n",
    "unblock_button.place(x = 350, y = 150)"
   ]
  },
  {
   "cell_type": "code",
   "execution_count": 8,
   "id": "2069ed62",
   "metadata": {
    "scrolled": false
   },
   "outputs": [],
   "source": [
    "window.mainloop()"
   ]
  },
  {
   "cell_type": "code",
   "execution_count": null,
   "id": "6c5d7b4e",
   "metadata": {},
   "outputs": [],
   "source": []
  }
 ],
 "metadata": {
  "kernelspec": {
   "display_name": "Python 3 (ipykernel)",
   "language": "python",
   "name": "python3"
  },
  "language_info": {
   "codemirror_mode": {
    "name": "ipython",
    "version": 3
   },
   "file_extension": ".py",
   "mimetype": "text/x-python",
   "name": "python",
   "nbconvert_exporter": "python",
   "pygments_lexer": "ipython3",
   "version": "3.10.7"
  }
 },
 "nbformat": 4,
 "nbformat_minor": 5
}
